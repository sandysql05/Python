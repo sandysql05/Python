{
 "cells": [
  {
   "cell_type": "code",
   "execution_count": 105,
   "id": "f04396c7",
   "metadata": {},
   "outputs": [],
   "source": [
    "class Solution:\n",
    "    def arrayRankTransform(self, nums) :\n",
    "        out = []\n",
    "        \n",
    "        for i in range(len(nums)):\n",
    "            cnt=1\n",
    "            val = nums[i]\n",
    "            for j in range(len(nums)):\n",
    "                \n",
    "                if  i!=j and val > nums[j]:\n",
    "                    cnt = cnt+1\n",
    "            \n",
    "            out.append(cnt)\n",
    "        \n",
    "       # return out"
   ]
  },
  {
   "cell_type": "code",
   "execution_count": 106,
   "id": "f4b78228",
   "metadata": {},
   "outputs": [
    {
     "name": "stdout",
     "output_type": "stream",
     "text": [
      "None\n"
     ]
    }
   ],
   "source": [
    "sol1 = Solution()\n",
    "print(sol1.arrayRankTransform([10,40,10,40]))"
   ]
  },
  {
   "cell_type": "code",
   "execution_count": 26,
   "id": "4190be02",
   "metadata": {},
   "outputs": [
    {
     "name": "stdout",
     "output_type": "stream",
     "text": [
      "n:4   t:[0, 1, 2, 3] s:[0, 2, 1, 3]\n",
      "[0, 1, 0, 1]\n"
     ]
    }
   ],
   "source": [
    "# Python-only\n",
    "if 1==1:\n",
    "#def rank_list( x, break_ties=False ):\n",
    "    x = [10,40,10,40]\n",
    "    break_ties = False\n",
    "    n = len(x)\n",
    "    t = list(range(n))\n",
    "    s = sorted( t, key=x.__getitem__ )\n",
    "    \n",
    "    print(\"n:\"+str(n)+ \"   t:\"+ str(t) +\" s:\"+ str(s))\n",
    "\n",
    "    if not break_ties:\n",
    "        for k in range(n-1):\n",
    "            t[k+1] = t[k] + (x[s[k+1]] != x[s[k]])\n",
    "\n",
    "    r = s.copy()\n",
    "    for i,k in enumerate(s):\n",
    "        r[k] = t[i]\n",
    "\n",
    "    print(r)\n",
    "    #return r\n"
   ]
  },
  {
   "cell_type": "code",
   "execution_count": 104,
   "id": "3cb3131b",
   "metadata": {},
   "outputs": [
    {
     "name": "stdout",
     "output_type": "stream",
     "text": [
      "[False, False, False, False, False, False, True]\n"
     ]
    }
   ],
   "source": [
    "strs = ['leet','leet ','leet C','leet Co','leet Cod','leet Code','abc']\n",
    "\n",
    "pre = min(strs, key = len)\n",
    "\n",
    "fin =\"\"\n",
    "print([elem.startswith(pre) for elem in strs])\n",
    "\n",
    "if all([s.startswith(pre) for s in strs]):\n",
    "    print(pre)\n",
    "\n"
   ]
  },
  {
   "cell_type": "code",
   "execution_count": 45,
   "id": "ec5b2c9c",
   "metadata": {},
   "outputs": [
    {
     "name": "stdout",
     "output_type": "stream",
     "text": [
      "984\n"
     ]
    }
   ],
   "source": [
    "sol1 = Solution()\n",
    "\n",
    "print(sol1.romanToInt(\"IVXM\"))"
   ]
  }
 ],
 "metadata": {
  "kernelspec": {
   "display_name": "Python 3",
   "language": "python",
   "name": "python3"
  },
  "language_info": {
   "codemirror_mode": {
    "name": "ipython",
    "version": 3
   },
   "file_extension": ".py",
   "mimetype": "text/x-python",
   "name": "python",
   "nbconvert_exporter": "python",
   "pygments_lexer": "ipython3",
   "version": "3.8.8"
  }
 },
 "nbformat": 4,
 "nbformat_minor": 5
}
