{
 "cells": [
  {
   "cell_type": "code",
   "execution_count": null,
   "id": "8ccdaa69",
   "metadata": {},
   "outputs": [],
   "source": [
    "class Solution:\n",
    "    def twoSum(self, nums: List[int], target: int) -> List[int]:\n",
    "        \n",
    "        #nums = [2,7,11,15], target = 9\n",
    "        for "
   ]
  },
  {
   "cell_type": "code",
   "execution_count": 14,
   "id": "483e69bb",
   "metadata": {},
   "outputs": [],
   "source": [
    "nums = [1,6,3,2,7,11,8,15]\n",
    "target =9\n",
    "\n",
    "\n",
    "\n",
    "seen = {}\n",
    "for i, v in enumerate(nums):\n",
    "    if target - v in seen:\n",
    "        print(i, seen[target - v])\n",
    "        seen[v] = iprint(i,v)\n",
    "    "
   ]
  },
  {
   "cell_type": "code",
   "execution_count": 17,
   "id": "8ee443ca",
   "metadata": {},
   "outputs": [],
   "source": [
    "class Solution(object):\n",
    "    def twoSum(self, nums, target):\n",
    "       \n",
    "        for i in range(len(nums)):\n",
    "            remainder = target-nums[i]\n",
    "            nums[i] = \"foo\"\n",
    "            print(nums)\n",
    "            if remainder in nums:\n",
    "                return [i,nums.index(remainder)]"
   ]
  },
  {
   "cell_type": "code",
   "execution_count": 20,
   "id": "66e9f3c5",
   "metadata": {},
   "outputs": [
    {
     "name": "stdout",
     "output_type": "stream",
     "text": [
      "['foo', 6, 3, 2, 7, 11, 8, 15]\n",
      "['foo', 'foo', 3, 2, 7, 11, 8, 15]\n"
     ]
    },
    {
     "data": {
      "text/plain": [
       "[1, 4]"
      ]
     },
     "execution_count": 20,
     "metadata": {},
     "output_type": "execute_result"
    }
   ],
   "source": [
    "sol1 = Solution()\n",
    "#print(Solution.twoSum([2,7,11,15],9))\n",
    "sol1.twoSum( [1,6,3,2,7,11,8,15],13)"
   ]
  },
  {
   "cell_type": "code",
   "execution_count": 24,
   "id": "a9c1f078",
   "metadata": {},
   "outputs": [
    {
     "name": "stdout",
     "output_type": "stream",
     "text": [
      "range(0, 8)\n",
      "8\n",
      "[(0, 1), (1, 6), (2, 3), (3, 2), (4, 7), (5, 11), (6, 8), (7, 15)]\n"
     ]
    }
   ],
   "source": [
    "print( range(len(nums)))\n",
    "print( (len(nums)))\n",
    "print(list(enumerate(nums)))\n",
    "\n"
   ]
  },
  {
   "cell_type": "code",
   "execution_count": 31,
   "id": "802b6d20",
   "metadata": {},
   "outputs": [
    {
     "name": "stdout",
     "output_type": "stream",
     "text": [
      "4321\n"
     ]
    }
   ],
   "source": [
    "num = \"1234\"\n",
    "rev = num [::-1]\n",
    "\n",
    "print((rev))"
   ]
  },
  {
   "cell_type": "code",
   "execution_count": 44,
   "id": "add15e62",
   "metadata": {},
   "outputs": [
    {
     "name": "stdout",
     "output_type": "stream",
     "text": [
      "False\n"
     ]
    }
   ],
   "source": [
    "x=1234\n",
    "if 1==1:\n",
    "    rev = str(x)[::-1]\n",
    "        \n",
    "    if rev==str(x):\n",
    "        out= True\n",
    "    else:\n",
    "        out = False\n",
    "    \n",
    "    print(out)\n",
    "        "
   ]
  },
  {
   "cell_type": "code",
   "execution_count": 45,
   "id": "77822a6e",
   "metadata": {},
   "outputs": [],
   "source": [
    "class Solution:\n",
    "    def isPalindrome(self, x: int) -> bool:\n",
    "        rev = str(x)[::-1]\n",
    "        if rev==str(x):\n",
    "            out= True\n",
    "        else:\n",
    "            out = False\n",
    "    \n",
    "        return out"
   ]
  },
  {
   "cell_type": "code",
   "execution_count": 47,
   "id": "f37fd197",
   "metadata": {},
   "outputs": [
    {
     "name": "stdout",
     "output_type": "stream",
     "text": [
      "True\n"
     ]
    }
   ],
   "source": [
    "sol1 = Solution()\n",
    "\n",
    "print(sol1.isPalindrome(1221))"
   ]
  }
 ],
 "metadata": {
  "kernelspec": {
   "display_name": "Python 3",
   "language": "python",
   "name": "python3"
  },
  "language_info": {
   "codemirror_mode": {
    "name": "ipython",
    "version": 3
   },
   "file_extension": ".py",
   "mimetype": "text/x-python",
   "name": "python",
   "nbconvert_exporter": "python",
   "pygments_lexer": "ipython3",
   "version": "3.8.8"
  }
 },
 "nbformat": 4,
 "nbformat_minor": 5
}
