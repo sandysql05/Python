{
 "cells": [
  {
   "cell_type": "code",
   "execution_count": 1,
   "id": "4d8be973",
   "metadata": {},
   "outputs": [],
   "source": [
    "class Solution:\n",
    "    def arrayRankTransform(self, nums) :\n",
    "        out = []\n",
    "        \n",
    "        for i in range(len(nums)):\n",
    "            cnt=1\n",
    "            val = nums[i]\n",
    "            for j in range(len(nums)):\n",
    "                \n",
    "                if  i!=j and val > nums[j]:\n",
    "                    cnt = cnt+1\n",
    "            \n",
    "            out.append(cnt)\n",
    "        \n",
    "        return out"
   ]
  },
  {
   "cell_type": "code",
   "execution_count": 15,
   "id": "e957a2b0",
   "metadata": {},
   "outputs": [
    {
     "name": "stdout",
     "output_type": "stream",
     "text": [
      "[1, 3, 1, 3]\n"
     ]
    }
   ],
   "source": [
    "sol1 = Solution()\n",
    "print(sol1.arrayRankTransform([10,40,10,40]))"
   ]
  },
  {
   "cell_type": "code",
   "execution_count": 26,
   "id": "6dc51b12",
   "metadata": {},
   "outputs": [
    {
     "name": "stdout",
     "output_type": "stream",
     "text": [
      "n:4   t:[0, 1, 2, 3] s:[0, 2, 1, 3]\n",
      "[0, 1, 0, 1]\n"
     ]
    }
   ],
   "source": [
    "# Python-only\n",
    "if 1==1:\n",
    "#def rank_list( x, break_ties=False ):\n",
    "    x = [10,40,10,40]\n",
    "    break_ties = False\n",
    "    n = len(x)\n",
    "    t = list(range(n))\n",
    "    s = sorted( t, key=x.__getitem__ )\n",
    "    \n",
    "    print(\"n:\"+str(n)+ \"   t:\"+ str(t) +\" s:\"+ str(s))\n",
    "\n",
    "    if not break_ties:\n",
    "        for k in range(n-1):\n",
    "            t[k+1] = t[k] + (x[s[k+1]] != x[s[k]])\n",
    "\n",
    "    r = s.copy()\n",
    "    for i,k in enumerate(s):\n",
    "        r[k] = t[i]\n",
    "\n",
    "    print(r)\n",
    "    #return r\n"
   ]
  },
  {
   "cell_type": "code",
   "execution_count": 42,
   "id": "49dfff9c",
   "metadata": {},
   "outputs": [
    {
     "name": "stdout",
     "output_type": "stream",
     "text": [
      "<class 'dict'>\n",
      "0   4\n",
      "1   4\n",
      "2   4\n",
      "3   4\n",
      "984\n"
     ]
    }
   ],
   "source": [
    "rom = {\"I\":1, \"V\":5,\"X\":10,\"L\":50,\"C\":100,\"D\":500,\"M\":1000}\n",
    "\n",
    "strng = \"IVXM\"\n",
    "tot = 0\n",
    "print(type(rom))\n",
    "\n",
    "for i in range(len(strng)):\n",
    "    print(str(i) + \"   \" + str(len(strng)))\n",
    "    if i+1 < len(strng) and rom[strng[i]] < rom[strng[i+1]]:\n",
    "        tot -= rom[strng[i]]\n",
    "    else:\n",
    "        tot += rom[strng[i]]\n",
    "\n",
    "print(tot)\n",
    "    \n",
    "    \n",
    "    "
   ]
  },
  {
   "cell_type": "code",
   "execution_count": 43,
   "id": "0dbe0dd9",
   "metadata": {},
   "outputs": [],
   "source": [
    "class Solution:\n",
    "    def romanToInt(self, s: str) -> int:\n",
    "        rom = {\"I\":1, \"V\":5,\"X\":10,\"L\":50,\"C\":100,\"D\":500,\"M\":1000}\n",
    "        \n",
    "        tot = 0\n",
    "        for i in range(len(s)):\n",
    "            if i+1 < len(s) and rom[s[i]]<rom[s[i+1]]:\n",
    "                tot = tot - rom[s[i]]\n",
    "            else:\n",
    "                tot = tot + rom[s[i]]\n",
    "                \n",
    "        return tot\n",
    "            \n",
    "            "
   ]
  },
  {
   "cell_type": "code",
   "execution_count": null,
   "id": "6673a62e",
   "metadata": {},
   "outputs": [],
   "source": []
  }
 ],
 "metadata": {
  "kernelspec": {
   "display_name": "Python 3",
   "language": "python",
   "name": "python3"
  },
  "language_info": {
   "codemirror_mode": {
    "name": "ipython",
    "version": 3
   },
   "file_extension": ".py",
   "mimetype": "text/x-python",
   "name": "python",
   "nbconvert_exporter": "python",
   "pygments_lexer": "ipython3",
   "version": "3.8.8"
  }
 },
 "nbformat": 4,
 "nbformat_minor": 5
}
