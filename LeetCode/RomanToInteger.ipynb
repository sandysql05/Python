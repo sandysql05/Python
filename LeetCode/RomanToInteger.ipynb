{
 "cells": [
  {
   "cell_type": "code",
   "execution_count": 13,
   "id": "50d18a76",
   "metadata": {},
   "outputs": [
    {
     "name": "stdout",
     "output_type": "stream",
     "text": [
      "1\n",
      "1\n",
      "prevVal  0\n",
      "val > prevVal:    1\n",
      "5\n",
      "6\n",
      "prevVal  1\n",
      "val > prevVal:    4\n"
     ]
    }
   ],
   "source": [
    "Sym2Val = {'I':1,'V':5,'X':10,'L':50,'C':100,'D':500,'M':1000}\n",
    "s=\"IV\"\n",
    "ans = 0\n",
    "prevVal = 0\n",
    "for c in s:\n",
    "    val = Sym2Val[c]\n",
    "    print(val)\n",
    "    ans += val\n",
    "    print(ans)\n",
    "    print(\"prevVal  \" +str( prevVal))\n",
    "    if val > prevVal:\n",
    "        ans -= 2*prevVal\n",
    "        \n",
    "        print(\"val > prevVal:    \" + str(ans))\n",
    "        \n",
    "    prevVal = val\n",
    "    \n",
    "    "
   ]
  },
  {
   "cell_type": "code",
   "execution_count": 21,
   "id": "14c25c3c",
   "metadata": {},
   "outputs": [],
   "source": [
    "class Solution:\n",
    "    def romanToInt(self, s: str) -> int:\n",
    "        rom = {\"I\":1, \"V\":5,\"X\":10,\"L\":50,\"C\":100,\"D\":500,\"M\":1000}\n",
    "        \n",
    "        tot = 0\n",
    "        for i in range(len(s)):\n",
    "            if i+1 < len(s) and rom[s[i]]<rom[s[i+1]]:\n",
    "                tot = tot - rom[s[i]]\n",
    "            else:\n",
    "                tot = tot + rom[s[i]]\n",
    "                \n",
    "        return tot"
   ]
  },
  {
   "cell_type": "code",
   "execution_count": 24,
   "id": "9206b305",
   "metadata": {},
   "outputs": [
    {
     "name": "stdout",
     "output_type": "stream",
     "text": [
      "1510\n"
     ]
    }
   ],
   "source": [
    "sol1 = Solution()\n",
    "\n",
    "print(sol1.romanToInt(\"XIMDI\"))"
   ]
  },
  {
   "cell_type": "code",
   "execution_count": 12,
   "id": "8ed4ddb3",
   "metadata": {},
   "outputs": [
    {
     "name": "stdout",
     "output_type": "stream",
     "text": [
      "ans: 1\n",
      " val > prevVal : 1> 0\n",
      "ans: 3\n",
      " val > prevVal : 2> 1\n",
      "ans: 4\n",
      " val > prevVal : 3> 2\n",
      "ans: 4\n",
      " val > prevVal : 4> 3\n",
      "ans: 3\n",
      " val > prevVal : 5> 4\n",
      "ans: 1\n",
      " val > prevVal : 6> 5\n",
      "ans: -2\n",
      " val > prevVal : 7> 6\n",
      "ans: -11\n",
      " val > prevVal : 3> 7\n",
      "ans: -9\n",
      " val > prevVal : 2> 3\n",
      "ans: -5\n",
      " val > prevVal : 4> 2\n",
      "ans: -3\n",
      " val > prevVal : 6> 4\n"
     ]
    }
   ],
   "source": [
    "ls = [1,2,3,4,5,6,7,3,2,4,6]\n",
    "\n",
    "ans = 0\n",
    "prevVal = 0\n",
    "for c in ls:\n",
    "    val = c\n",
    "    ans += val\n",
    "    print(\"ans: \"+ str(ans))\n",
    "    print(\" val > prevVal : \"+ str(val) + \"> \"+str(prevVal))\n",
    "    if val > prevVal:\n",
    "        ans -= 2*prevVal\n",
    "    prevVal = val\n"
   ]
  },
  {
   "cell_type": "code",
   "execution_count": 47,
   "id": "7ba8ef77",
   "metadata": {},
   "outputs": [],
   "source": [
    "class Solution:\n",
    "    def smallerNumbersThanCurrent(self, nums) :\n",
    "        out = []\n",
    "        \n",
    "        for i in range(len(nums)):\n",
    "            cnt=0\n",
    "            val = nums[i]\n",
    "            for j in range(len(nums)):\n",
    "                \n",
    "                if  i!=j and val > nums[j]:\n",
    "                    cnt= cnt+1\n",
    "            \n",
    "            out.append(cnt)\n",
    "        \n",
    "        return out"
   ]
  },
  {
   "cell_type": "code",
   "execution_count": 48,
   "id": "4d3acb32",
   "metadata": {},
   "outputs": [
    {
     "name": "stdout",
     "output_type": "stream",
     "text": [
      "[0, 1, 2, 8, 3, 4, 5, 6, 6]\n"
     ]
    }
   ],
   "source": [
    "sol1 = Solution()\n",
    "\n",
    "print(sol1.smallerNumbersThanCurrent([1,2,3,44,5,6,7,8,8]))"
   ]
  },
  {
   "cell_type": "code",
   "execution_count": 49,
   "id": "579c89a8",
   "metadata": {},
   "outputs": [
    {
     "data": {
      "text/plain": [
       "[10, 9, 8, 7, 6, 5, 4, 3, 2, 1]"
      ]
     },
     "execution_count": 49,
     "metadata": {},
     "output_type": "execute_result"
    }
   ],
   "source": [
    "a = [10.0, 9.8, 8.0, 7.8, 7.7, 7.0, 6.0, 5.0, 4.0, 2.0]\n",
    "rank = lambda arr: list(map(lambda i: sorted(arr).index(i)+1, arr))\n",
    "rank(a)"
   ]
  }
 ],
 "metadata": {
  "kernelspec": {
   "display_name": "Python 3",
   "language": "python",
   "name": "python3"
  },
  "language_info": {
   "codemirror_mode": {
    "name": "ipython",
    "version": 3
   },
   "file_extension": ".py",
   "mimetype": "text/x-python",
   "name": "python",
   "nbconvert_exporter": "python",
   "pygments_lexer": "ipython3",
   "version": "3.8.8"
  }
 },
 "nbformat": 4,
 "nbformat_minor": 5
}
