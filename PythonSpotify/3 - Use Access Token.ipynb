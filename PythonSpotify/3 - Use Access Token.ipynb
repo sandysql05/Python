{
 "cells": [
  {
   "cell_type": "code",
   "execution_count": 1,
   "metadata": {},
   "outputs": [],
   "source": [
    "import base64"
   ]
  },
  {
   "cell_type": "code",
   "execution_count": 2,
   "metadata": {},
   "outputs": [],
   "source": [
    "import requests\n",
    "import datetime\n",
    "from urllib.parse import urlencode"
   ]
  },
  {
   "cell_type": "code",
   "execution_count": 3,
   "metadata": {},
   "outputs": [
    {
     "name": "stdout",
     "output_type": "stream",
     "text": [
      "Requirement already satisfied: requests in c:\\programdata\\anaconda3\\lib\\site-packages (2.24.0)\n",
      "Requirement already satisfied: certifi>=2017.4.17 in c:\\programdata\\anaconda3\\lib\\site-packages (from requests) (2020.6.20)\n",
      "Requirement already satisfied: idna<3,>=2.5 in c:\\programdata\\anaconda3\\lib\\site-packages (from requests) (2.10)\n",
      "Requirement already satisfied: chardet<4,>=3.0.2 in c:\\programdata\\anaconda3\\lib\\site-packages (from requests) (3.0.4)\n",
      "Requirement already satisfied: urllib3!=1.25.0,!=1.25.1,<1.26,>=1.21.1 in c:\\programdata\\anaconda3\\lib\\site-packages (from requests) (1.25.9)\n"
     ]
    }
   ],
   "source": [
    "!pip install requests"
   ]
  },
  {
   "cell_type": "code",
   "execution_count": 4,
   "metadata": {},
   "outputs": [],
   "source": [
    "client_id = 'dd67a453d722441da636647587d4a7be'\n",
    "client_secret = '26cf26febfd24315aa047ef52566d669'\n"
   ]
  },
  {
   "cell_type": "code",
   "execution_count": 5,
   "metadata": {},
   "outputs": [],
   "source": [
    "class SpotifyAPI(object):\n",
    "    access_token = None\n",
    "    access_token_expires = datetime.datetime.now()\n",
    "    access_token_did_expire = True\n",
    "    client_id = None\n",
    "    client_secret = None\n",
    "    token_url = \"https://accounts.spotify.com/api/token\"\n",
    "    \n",
    "    def __init__(self, client_id, client_secret, *args, **kwargs):\n",
    "        super().__init__(*args, **kwargs)\n",
    "        self.client_id = client_id\n",
    "        self.client_secret = client_secret\n",
    "\n",
    "    def get_client_credentials(self):\n",
    "        \"\"\"\n",
    "        Returns a base64 encoded string\n",
    "        \"\"\"\n",
    "        client_id = self.client_id\n",
    "        client_secret = self.client_secret\n",
    "        if client_secret == None or client_id == None:\n",
    "            raise Exception(\"You must set client_id and client_secret\")\n",
    "        client_creds = f\"{client_id}:{client_secret}\"\n",
    "        client_creds_b64 = base64.b64encode(client_creds.encode())\n",
    "        return client_creds_b64.decode()\n",
    "    \n",
    "    def get_token_headers(self):\n",
    "        client_creds_b64 = self.get_client_credentials()\n",
    "        return {\n",
    "            \"Authorization\": f\"Basic {client_creds_b64}\"\n",
    "        }\n",
    "    \n",
    "    def get_token_data(self):\n",
    "        return {\n",
    "            \"grant_type\": \"client_credentials\"\n",
    "        } \n",
    "    \n",
    "    def perform_auth(self):\n",
    "        token_url = self.token_url\n",
    "        token_data = self.get_token_data()\n",
    "        token_headers = self.get_token_headers()\n",
    "        r = requests.post(token_url, data=token_data, headers=token_headers)\n",
    "        if r.status_code not in range(200, 299):\n",
    "            return False\n",
    "        data = r.json()\n",
    "        now = datetime.datetime.now()\n",
    "        access_token = data['access_token']\n",
    "        expires_in = data['expires_in'] # seconds\n",
    "        expires = now + datetime.timedelta(seconds=expires_in)\n",
    "        self.access_token = access_token\n",
    "        self.access_token_expires = expires\n",
    "        self.access_token_did_expire = expires < now\n",
    "        return True"
   ]
  },
  {
   "cell_type": "code",
   "execution_count": 6,
   "metadata": {},
   "outputs": [],
   "source": [
    "\n",
    "spotify = SpotifyAPI(client_id, client_secret)"
   ]
  },
  {
   "cell_type": "code",
   "execution_count": 7,
   "metadata": {},
   "outputs": [
    {
     "data": {
      "text/plain": [
       "True"
      ]
     },
     "execution_count": 7,
     "metadata": {},
     "output_type": "execute_result"
    }
   ],
   "source": [
    "spotify.perform_auth()"
   ]
  },
  {
   "cell_type": "code",
   "execution_count": 8,
   "metadata": {},
   "outputs": [
    {
     "data": {
      "text/plain": [
       "'BQAzlu2E3wnwzSX-mveIEeVmbFrO8B8mM1u8XD94DD9DwyMiiTiHsXUYdoF1YGlWtPA4lR0KIzp6kRNz9eM'"
      ]
     },
     "execution_count": 8,
     "metadata": {},
     "output_type": "execute_result"
    }
   ],
   "source": [
    "access_token = spotify.access_token\n",
    "access_token"
   ]
  },
  {
   "cell_type": "code",
   "execution_count": 13,
   "metadata": {},
   "outputs": [
    {
     "name": "stdout",
     "output_type": "stream",
     "text": [
      "q=JEREMY+SHIELDS&type=artist\n",
      "https://api.spotify.com/v1/search?q=JEREMY+SHIELDS&type=artist\n",
      "200\n"
     ]
    }
   ],
   "source": [
    "headers = {\n",
    "    \"Authorization\": f\"Bearer {access_token}\"\n",
    "}\n",
    "endpoint = \"https://api.spotify.com/v1/search\"\n",
    "data = urlencode({\"q\": \"JEREMY SHIELDS\", \"type\": \"artist\"})\n",
    "print(data)\n",
    "\n",
    "lookup_url = f\"{endpoint}?{data}\"\n",
    "print(lookup_url)\n",
    "r = requests.get(lookup_url, headers=headers)\n",
    "print(r.status_code)"
   ]
  },
  {
   "cell_type": "code",
   "execution_count": 14,
   "metadata": {},
   "outputs": [
    {
     "data": {
      "text/plain": [
       "{'artists': {'href': 'https://api.spotify.com/v1/search?query=JEREMY+SHIELDS&type=artist&offset=0&limit=20',\n",
       "  'items': [{'external_urls': {'spotify': 'https://open.spotify.com/artist/3xHvrNjNO8GFy3kq4tSdOb'},\n",
       "    'followers': {'href': None, 'total': 8},\n",
       "    'genres': [],\n",
       "    'href': 'https://api.spotify.com/v1/artists/3xHvrNjNO8GFy3kq4tSdOb',\n",
       "    'id': '3xHvrNjNO8GFy3kq4tSdOb',\n",
       "    'images': [{'height': 640,\n",
       "      'url': 'https://i.scdn.co/image/38a2398a71498fca9f47c88b8a84f3bf331a8c70',\n",
       "      'width': 640},\n",
       "     {'height': 320,\n",
       "      'url': 'https://i.scdn.co/image/96492d31f3491df549a4d37b0e3f0345d7d2f996',\n",
       "      'width': 320},\n",
       "     {'height': 160,\n",
       "      'url': 'https://i.scdn.co/image/f78a46e06fc6e7aa7875f6d54d61ec1082365561',\n",
       "      'width': 160}],\n",
       "    'name': 'Jeremy Shields',\n",
       "    'popularity': 0,\n",
       "    'type': 'artist',\n",
       "    'uri': 'spotify:artist:3xHvrNjNO8GFy3kq4tSdOb'}],\n",
       "  'limit': 20,\n",
       "  'next': None,\n",
       "  'offset': 0,\n",
       "  'previous': None,\n",
       "  'total': 1}}"
      ]
     },
     "execution_count": 14,
     "metadata": {},
     "output_type": "execute_result"
    }
   ],
   "source": [
    "r.json()"
   ]
  }
 ],
 "metadata": {
  "kernelspec": {
   "display_name": "Python 3",
   "language": "python",
   "name": "python3"
  },
  "language_info": {
   "codemirror_mode": {
    "name": "ipython",
    "version": 3
   },
   "file_extension": ".py",
   "mimetype": "text/x-python",
   "name": "python",
   "nbconvert_exporter": "python",
   "pygments_lexer": "ipython3",
   "version": "3.8.3"
  }
 },
 "nbformat": 4,
 "nbformat_minor": 4
}
